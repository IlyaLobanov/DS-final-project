{
 "cells": [
  {
   "cell_type": "code",
   "execution_count": 3,
   "source": [
    "open('token.txt').readlines()[0]"
   ],
   "outputs": [
    {
     "output_type": "execute_result",
     "data": {
      "text/plain": [
       "'6XMUP2u2ovdiMsmWbj3jz0dRSmInNdWpsi67aJcqh6VuNgbKTi4S0NYWgqSmJhBs\\n'"
      ]
     },
     "metadata": {},
     "execution_count": 3
    }
   ],
   "metadata": {}
  }
 ],
 "metadata": {
  "orig_nbformat": 4,
  "language_info": {
   "name": "python",
   "version": "3.9.7",
   "mimetype": "text/x-python",
   "codemirror_mode": {
    "name": "ipython",
    "version": 3
   },
   "pygments_lexer": "ipython3",
   "nbconvert_exporter": "python",
   "file_extension": ".py"
  },
  "kernelspec": {
   "name": "python3",
   "display_name": "Python 3.9.7 64-bit ('base': conda)"
  },
  "interpreter": {
   "hash": "1eb2f067911a5ab716546c09d7f59ca375ff5029636eedb8c7d597a850bc679b"
  }
 },
 "nbformat": 4,
 "nbformat_minor": 2
}